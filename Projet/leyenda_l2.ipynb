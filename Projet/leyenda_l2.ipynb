{
 "cells": [
  {
   "cell_type": "markdown",
   "id": "af8fe6db",
   "metadata": {},
   "source": [
    "# Projet Leyenda\n",
    "## I. Introduction\n",
    "### 1.1 Introduction au projet\n",
    "\n",
    "L’entreprise TouNum fait appel à nos services afin d’ajouter à leurs prestations un algorithme de Machine Learning permettant d’améliorer les performances de numérisation de leurs clients. Le premier contrat concerne une solution visant à analyser des photographies afin d’en écrire une légende descriptive automatique, en suivant le concept de captioning.\n",
    "\n",
    "Cette mission implique plusieurs enjeux : dans un premier temps, les images étant de qualité, définition et résolution pouvant être variables, il faudra nettoyer l’image. De plus, comme ceux-ci comptent travailler sur des types de documents différents, il sera important de savoir trier les documents en question.\n",
    "\n",
    "![](Images/workflow_projet.png)\n",
    "\n",
    "Ci-dessus, le Workflow fournit par Tounum. Pour implémenter les algorithmes, nous utiliserons Python (sous forme d’un Notebook Jupyter) ainsi que les librairies SciKit et TensorFlow. D’un point de vue plus mathématique, nous utiliserons également NumPy et MatPlotLib.\n",
    "\n",
    "Tounum nous fournit également un Dataset dans lequel des images déjà catégorisées permettront d’entraîner nos algorithmes. Dans un premier temps, nous effectuerons une classification binaire via un réseau de neurones afin de classer les fichiers en 2 classes : photos et autres images. Il faudra donc différencier les photos des schémas ainsi que des peintures par exemple.\n",
    "\n",
    "Pour le captioning, 2 techniques de Machine Learning sont à utiliser. Dans un premier temps, les réseaux de neurones convolutifs, CNN, afin de prétraiter les images. Par la suite, des réseaux de neurones récurrents, RNN, pour générer les étiquettes (descriptions).\n",
    "\n",
    "Une autre contrainte est à prendre en compte, notamment l’automatisation complète du processus, de l’insertion du jeu de données jusqu’à la création des étiquettes.\n",
    "\n",
    "3 livrables seront à rendre respectivement fin de semaine 3, fin de semaine 4 et fin de semaine 5 :\n",
    "\n",
    "- Livrable 1 : Classification Binaire.\n",
    "\n",
    "- Livrable 2 : Traitement d’images.\n",
    "\n",
    "- Livrable 3 : Captioning d’images.\n",
    "\n",
    "Dans ce notebook, vous trouverez le code ainsi que les justifications techniques complètes concernant le livrable 2 sur le débruitage des images.\n"
   ]
  },
  {
   "cell_type": "markdown",
   "id": "742b8556",
   "metadata": {},
   "source": [
    "### 1.2 Notre équipe de Bordeaux\n",
    "\n",
    "L'équipe est composé d'étudiants de CESI en option **Data Science** composée de :\n",
    "- Elise Beaumatin\n",
    "- Axel Brosset\n",
    "- Gaylord Giret\n",
    "- Mathieu Musard\n",
    "- Xavier Labarbe"
   ]
  },
  {
   "cell_type": "markdown",
   "id": "c588804f",
   "metadata": {},
   "source": [
    "### 1.3 Introduction au livrable 2 : Débruitage des images\n",
    "\n",
    "[TODO]"
   ]
  },
  {
   "cell_type": "markdown",
   "id": "f94ede16",
   "metadata": {},
   "source": [
    "## II. Importations des modules et des données\n",
    "\n",
    "### 2.1 Importation des modules\n",
    "\n",
    "La première chose à faire pour faire fonctionner ce notebook et espèrer modéliser au les données avec les dernières techniques de machine learning tout en exploitant la puissance de certaines librairies Python comme NumPy, TensorFlow et matplotlib, est d'installer et d'importer les librairies Python que nous allons utiliser dans ce notebook. Préalablement, il convient d'installer ces librairies dans notre environnement d'execution avec les commandes **'!pip install'** ou **'!conda install'**, conformément aux instructions indiquées sur les sites de ces librairies. Une fois installées, nous pouvons importer les librairies dans le notebook. Vous pouvez trouvez toutes les librairies que nous avons utilisées dans le bloc de code ci-dessous.\n",
    "\n",
    "\n"
   ]
  },
  {
   "cell_type": "code",
   "execution_count": 1,
   "id": "b3e0168d",
   "metadata": {},
   "outputs": [],
   "source": [
    "# --- Libraries for preparing and importing data --- # \n",
    "\n",
    "import os                          # Import os (Used to create directory and handle images in local machine)\n",
    "from zipfile import ZipFile        # Import ZipFile class from zipfile (Used to extract archives)\n",
    "from PIL import Image              # Import Image class from PIL (Used for testing if images are corrupted and for rotating images)i\n",
    "import shutil                      # Import shutil (Used to move files and remove some directory)\n",
    "import glob                        # Import global (Used to list all file path in a directory)\n",
    "\n",
    "# --- Libraries for creating AI model and for handling data --- # \n",
    "\n",
    "import tensorflow as tf            # Import TensorFlow (Used for building AI model)\n",
    "import numpy as np                 # Import Numpy (Used for several useful methods)\n",
    "from tensorflow import keras       # Import keras from tensorflow (Used for building AI model)\n",
    "from keras import layers           # Import keras layers (Used for building AI model)\n",
    "from tensorflow.keras.applications.efficientnet_v2 import EfficientNetV2B0\n",
    "\n",
    "# --- Libraries for plotting data --- # \n",
    "\n",
    "import plotly.express as px        # Import plotly.express (Used for plotting graph)\n",
    "import matplotlib.pyplot as plt    # Import pyplot (Used for plotting graph)\n",
    "\n",
    "# --- Definition of colors code for Jupyter Notebooks (For printing purpose) --- #\n",
    "\n",
    "yellow = '\\033[93m'\n",
    "green = '\\033[92m'\n",
    "red = '\\033[91m'\n",
    "default = '\\033[39m'"
   ]
  },
  {
   "cell_type": "markdown",
   "id": "2602c369",
   "metadata": {},
   "source": [
    "### 2.2 Récupération des données\n",
    "\n",
    "Une fois que nous avons toutes nos librairies, nous allons devoir récupérer les données nécessaires à la réalisation du notebook. En science des données, il existe plusieurs moyens d'obtenir des données. Il est possible de s'appuyer sur des données locales (par exemple des fichiers plat sur notre machine), d'interroger des bases de données, d'interroger des API (Application Programming Interface), ou encore d'extraire des données depuis des sites Web. Dans notre cas le jeu de données est fournis par le CESI à l'URL suivant :   \n",
    "\n",
    "https://cesifr-my.sharepoint.com/:u:/g/personal/cmeslin_cesi_fr/EZuPZuL19sdLv39Xjvs_S9sBUjUAz2jrRLg37hwctCybFQ?e=UQzPuc\n",
    "\n",
    "Il s'agit d'une archive au format Zip qui contient un dossier avec toutes les images. Pour créér un jeu de données tensorflow à partir de ces images il va falloir les extraires les images des archives.\n",
    "\n",
    "Afin de préparer les images à leur utilisation par ce notebook, il faut créer un répertoire à l'emplacement désiré et y déposer l'archive contenant le dataset. Voir l'exemple sur l'image suivante. (**Attention ! Une archive doit contenir un ou plusieurs dossier contenant les images, les images ne doivent pas être à la racine de l'archive**)\n",
    "\n",
    "![](https://i.ibb.co/xCvbyck/image.png)"
   ]
  },
  {
   "cell_type": "markdown",
   "id": "e30a6b09",
   "metadata": {},
   "source": [
    "### 2.3 Extraction des données\n",
    "\n",
    "Maintenant que nous avons créé un répertoire avec l'archive qui contient les images, nous pouvons exécuter le code qui permettra d'extraire les images et les organiser dans un dossier."
   ]
  },
  {
   "cell_type": "code",
   "execution_count": 2,
   "id": "ff389d1c",
   "metadata": {
    "scrolled": false
   },
   "outputs": [],
   "source": [
    "# --- Definition of variables --- #\n",
    "\n",
    "allow_extraction = False # Boolean : 'True' will extract the data and 'False' will prevent data from being extracted.\n",
    "datasets_path = r\"/tf/Datasets\" # String : Path to the folder containing the datasets (in ZIP format). \n",
    "\n",
    "extracted_datasets_path = os.path.join(datasets_path,'Extracted')  # String : Path to the folder where images will be extracted. \n",
    "\n",
    "# --- Algorithm for extracting images from the achives --- #\n",
    "\n",
    "if allow_extraction: # If the extraction if images is on True\n",
    "    if not os.path.exists(extracted_datasets_path): # If the extraction folder isn't created yet\n",
    "        os.makedirs(extracted_datasets_path) # Creation of the extraction folder\n",
    "        print(f\"{green}Extraction folder successfully created at '{extracted_datasets_path}'\")\n",
    "                \n",
    "    try: # Try catch used to ignore an error at the end of the execution.\n",
    "        for dataset_filename in os.listdir(datasets_path): # For all archives in the dataset folder. \n",
    "            file_extension = os.path.splitext(dataset_filename)[1] # Retrieve the extension of the current file\n",
    "            if file_extension == \".zip\": # If the file is a zip file\n",
    "                dataset_path = os.path.join(datasets_path, dataset_filename) # Retrieve the complete path of the archive.\n",
    "                dataset_zip = ZipFile(dataset_path, 'r') # Create a ZipFile object from the archive. \n",
    "                print(f\"Starting the extraction of '{dataset_filename}' at '{extracted_datasets_path}'\")\n",
    "                dataset_zip.extractall(extracted_datasets_path) # Extract the dataset in the extraction path\n",
    "                print(f\"{green}'{dataset_filename}' was successfully extracted at '{extracted_datasets_path}'\")\n",
    "                dataset_zip.close() # Close the archive\n",
    "    except:\n",
    "        pass\n",
    "            \n",
    "    print(\"All the images has been extracted\")"
   ]
  },
  {
   "cell_type": "markdown",
   "id": "f61a4ff8",
   "metadata": {},
   "source": [
    "Une fois le code exécuté, nous nous retrouvons avec un dossier nommé \"Extracted_l2\" qui contient lui même dun dossier avec les images à l'intérieur."
   ]
  },
  {
   "cell_type": "markdown",
   "id": "78afb8f4",
   "metadata": {},
   "source": [
    "### 2.4 Préparation des données\n",
    "\n",
    "Il manque maintenant une dernière étape avant d'importer ces données dans un jeu de données TensorFlow. Il s'agit de vérifier que tous les fichiers dans les réportoires contenant les données sont des images et qu'elles peuvent toutes être traitées par dans un code Python. Pour cela nous allons vérifier que toutes les images sont ouvrables avec une librairie conçue pour gérer les images en Python (PIL). Les fichiers qui rencontreront des erreurs d'ouvertures seront supprimés.\n"
   ]
  },
  {
   "cell_type": "code",
   "execution_count": 3,
   "id": "bc0e93d4",
   "metadata": {},
   "outputs": [
    {
     "name": "stdout",
     "output_type": "stream",
     "text": [
      "\u001b[39mAll the images has been analysed\n"
     ]
    }
   ],
   "source": [
    "# --- Definition of variables --- #\n",
    "\n",
    "allow_search_for_corrupted = True # Boolean : 'True' will search for corrupted images and 'False' will prevent it.\n",
    "\n",
    "# --- Algorithm for searching corrupted images and rotating images --- #\n",
    "\n",
    "if allow_search_for_corrupted: # If the search of corrupted images is on True\n",
    "    img_paths = glob.glob(os.path.join(r\"/tf/Datasets/Extracted\",'*/*.*')) # Retrieve the list of path for all images\n",
    "    for image_path in img_paths: # For all images\n",
    "        try:\n",
    "            # Read the image with TensorFlow and transform it in an array\n",
    "            decoded_img = tf.io.decode_image(tf.io.read_file(image_path)) \n",
    "        except tf.errors.InvalidArgumentError as e: # If there is an error when opening an image\n",
    "            print(f\"{red}ERROR : Dropping the file at {image_path} because it can't be open...\")\n",
    "            os.remove(image_path) # We remove the image from the dataset\n",
    "    print(f\"{default}All the images has been analysed\")\n"
   ]
  },
  {
   "cell_type": "markdown",
   "id": "a9abc408",
   "metadata": {},
   "source": [
    "### 2.5 Importation des données\n",
    "\n",
    "Maintenant que toutes les images sont prêtes, nous pouvons les importer dans un jeu de données TensorFlow. Pour cela nous allons utiliser la méthode **\"image_dataset_from_directory\"**. Cette méthode permet de créer un jeu de données à partir d'un répertoire contenant un ou plusieurs dossiers avec des images.\n",
    "\n",
    "Afin de pouvoir entrainer le modèle et le tester sur des données différentes, nous avons répartis ces images en deux jeux de données disctincts. Le jeu de données de test ne sera jamais utilisé pour l'entrainement et vice versa. Pour cela nous utilisant le paramtère **\"subset=both\"**.    \n",
    "\n",
    "Lors de l'importation des images, nous devons définir qu'elle sera leur taille dans le jeu de données (elles seront automatiquement redimensionnées par la méthode **\"image_dataset_from_directory\"**)."
   ]
  },
  {
   "cell_type": "code",
   "execution_count": 50,
   "id": "7d09a3d0",
   "metadata": {
    "scrolled": true
   },
   "outputs": [
    {
     "name": "stdout",
     "output_type": "stream",
     "text": [
      "Found 150 files belonging to 1 classes.\n",
      "Using 120 files for training.\n",
      "Using 30 files for validation.\n",
      "(384, 384, 3)\n"
     ]
    },
    {
     "ename": "InvalidArgumentError",
     "evalue": "{{function_node __wrapped__StridedSlice_device_/job:localhost/replica:0/task:0/device:CPU:0}} slice index 1 of dimension 0 out of bounds. [Op:StridedSlice] name: strided_slice/",
     "output_type": "error",
     "traceback": [
      "\u001b[0;31m---------------------------------------------------------------------------\u001b[0m",
      "\u001b[0;31mInvalidArgumentError\u001b[0m                      Traceback (most recent call last)",
      "Cell \u001b[0;32mIn [50], line 15\u001b[0m\n\u001b[1;32m     13\u001b[0m \u001b[38;5;28;01mfor\u001b[39;00m images, labels \u001b[38;5;129;01min\u001b[39;00m train_set: \u001b[38;5;66;03m# Iterate over the training set\u001b[39;00m\n\u001b[1;32m     14\u001b[0m     \u001b[38;5;28mprint\u001b[39m(images[\u001b[38;5;241m0\u001b[39m]\u001b[38;5;241m.\u001b[39mshape)\n\u001b[0;32m---> 15\u001b[0m     train_set \u001b[38;5;241m=\u001b[39m np\u001b[38;5;241m.\u001b[39marray([images[i] \u001b[38;5;28;01mfor\u001b[39;00m i \u001b[38;5;129;01min\u001b[39;00m \u001b[38;5;28mrange\u001b[39m (\u001b[38;5;241m120\u001b[39m)])\n\u001b[1;32m     16\u001b[0m     test_set \u001b[38;5;241m=\u001b[39m np\u001b[38;5;241m.\u001b[39marray(images[\u001b[38;5;241m120\u001b[39m:\u001b[38;5;241m150\u001b[39m])\n\u001b[1;32m     17\u001b[0m     \u001b[38;5;28mprint\u001b[39m(\u001b[38;5;124mf\u001b[39m\u001b[38;5;124m\"\u001b[39m\u001b[38;5;130;01m\\n\u001b[39;00m\u001b[38;5;124mThe images of one batch have this shape : \u001b[39m\u001b[38;5;132;01m{\u001b[39;00mimages\u001b[38;5;241m.\u001b[39mshape\u001b[38;5;132;01m}\u001b[39;00m\u001b[38;5;124m\"\u001b[39m)\n",
      "Cell \u001b[0;32mIn [50], line 15\u001b[0m, in \u001b[0;36m<listcomp>\u001b[0;34m(.0)\u001b[0m\n\u001b[1;32m     13\u001b[0m \u001b[38;5;28;01mfor\u001b[39;00m images, labels \u001b[38;5;129;01min\u001b[39;00m train_set: \u001b[38;5;66;03m# Iterate over the training set\u001b[39;00m\n\u001b[1;32m     14\u001b[0m     \u001b[38;5;28mprint\u001b[39m(images[\u001b[38;5;241m0\u001b[39m]\u001b[38;5;241m.\u001b[39mshape)\n\u001b[0;32m---> 15\u001b[0m     train_set \u001b[38;5;241m=\u001b[39m np\u001b[38;5;241m.\u001b[39marray([\u001b[43mimages\u001b[49m\u001b[43m[\u001b[49m\u001b[43mi\u001b[49m\u001b[43m]\u001b[49m \u001b[38;5;28;01mfor\u001b[39;00m i \u001b[38;5;129;01min\u001b[39;00m \u001b[38;5;28mrange\u001b[39m (\u001b[38;5;241m120\u001b[39m)])\n\u001b[1;32m     16\u001b[0m     test_set \u001b[38;5;241m=\u001b[39m np\u001b[38;5;241m.\u001b[39marray(images[\u001b[38;5;241m120\u001b[39m:\u001b[38;5;241m150\u001b[39m])\n\u001b[1;32m     17\u001b[0m     \u001b[38;5;28mprint\u001b[39m(\u001b[38;5;124mf\u001b[39m\u001b[38;5;124m\"\u001b[39m\u001b[38;5;130;01m\\n\u001b[39;00m\u001b[38;5;124mThe images of one batch have this shape : \u001b[39m\u001b[38;5;132;01m{\u001b[39;00mimages\u001b[38;5;241m.\u001b[39mshape\u001b[38;5;132;01m}\u001b[39;00m\u001b[38;5;124m\"\u001b[39m)\n",
      "File \u001b[0;32m/usr/local/lib/python3.8/dist-packages/tensorflow/python/util/traceback_utils.py:153\u001b[0m, in \u001b[0;36mfilter_traceback.<locals>.error_handler\u001b[0;34m(*args, **kwargs)\u001b[0m\n\u001b[1;32m    151\u001b[0m \u001b[38;5;28;01mexcept\u001b[39;00m \u001b[38;5;167;01mException\u001b[39;00m \u001b[38;5;28;01mas\u001b[39;00m e:\n\u001b[1;32m    152\u001b[0m   filtered_tb \u001b[38;5;241m=\u001b[39m _process_traceback_frames(e\u001b[38;5;241m.\u001b[39m__traceback__)\n\u001b[0;32m--> 153\u001b[0m   \u001b[38;5;28;01mraise\u001b[39;00m e\u001b[38;5;241m.\u001b[39mwith_traceback(filtered_tb) \u001b[38;5;28;01mfrom\u001b[39;00m \u001b[38;5;28mNone\u001b[39m\n\u001b[1;32m    154\u001b[0m \u001b[38;5;28;01mfinally\u001b[39;00m:\n\u001b[1;32m    155\u001b[0m   \u001b[38;5;28;01mdel\u001b[39;00m filtered_tb\n",
      "File \u001b[0;32m/usr/local/lib/python3.8/dist-packages/tensorflow/python/framework/ops.py:7215\u001b[0m, in \u001b[0;36mraise_from_not_ok_status\u001b[0;34m(e, name)\u001b[0m\n\u001b[1;32m   7213\u001b[0m \u001b[38;5;28;01mdef\u001b[39;00m \u001b[38;5;21mraise_from_not_ok_status\u001b[39m(e, name):\n\u001b[1;32m   7214\u001b[0m   e\u001b[38;5;241m.\u001b[39mmessage \u001b[38;5;241m+\u001b[39m\u001b[38;5;241m=\u001b[39m (\u001b[38;5;124m\"\u001b[39m\u001b[38;5;124m name: \u001b[39m\u001b[38;5;124m\"\u001b[39m \u001b[38;5;241m+\u001b[39m name \u001b[38;5;28;01mif\u001b[39;00m name \u001b[38;5;129;01mis\u001b[39;00m \u001b[38;5;129;01mnot\u001b[39;00m \u001b[38;5;28;01mNone\u001b[39;00m \u001b[38;5;28;01melse\u001b[39;00m \u001b[38;5;124m\"\u001b[39m\u001b[38;5;124m\"\u001b[39m)\n\u001b[0;32m-> 7215\u001b[0m   \u001b[38;5;28;01mraise\u001b[39;00m core\u001b[38;5;241m.\u001b[39m_status_to_exception(e) \u001b[38;5;28;01mfrom\u001b[39;00m \u001b[38;5;28mNone\u001b[39m\n",
      "\u001b[0;31mInvalidArgumentError\u001b[0m: {{function_node __wrapped__StridedSlice_device_/job:localhost/replica:0/task:0/device:CPU:0}} slice index 1 of dimension 0 out of bounds. [Op:StridedSlice] name: strided_slice/"
     ]
    }
   ],
   "source": [
    "# --- Algorithm for creating a tensorflow dataset from images --- #\n",
    "\n",
    "# Create a training set and a test set of images from a directory\n",
    "train_set, test_set = tf.keras.preprocessing.image_dataset_from_directory(\n",
    "    extracted_datasets_path,  # Specify the directory where the images are located\n",
    "    validation_split = 0.2,  # Use 20% of the images for the test set\n",
    "    seed = 10, # Set a random seed for reproducibility\n",
    "    image_size = (384,384), # Resize the images\n",
    "    batch_size=1, # Include 64 images in each batch\n",
    "    subset = \"both\" # Include both the training and test sets in the returned dataset\n",
    ")\n",
    "\n",
    "for images, labels in train_set: # Iterate over the training set\n",
    "    print(images[0].shape)\n",
    "    train_set = np.array([images[i] for i in range (120)])\n",
    "    test_set = np.array(images[120:150])\n",
    "    print(f\"\\nThe images of one batch have this shape : {images.shape}\")\n",
    "    print(f\"The labels of one batch have this shape : {labels.shape}\")\n",
    "    break # Terminate the loop after the first iteration\n",
    "print(train_set)\n",
    "print(test_set.shape)"
   ]
  },
  {
   "cell_type": "markdown",
   "id": "9cbb7039",
   "metadata": {},
   "source": [
    "Les images sont maintenant toutes réparties dans le jeu de données d'entrainement ou le jeu de données de test. Nous pouvons le vérifier en affichant certaines images de notre jeu d'entrainement. "
   ]
  },
  {
   "cell_type": "code",
   "execution_count": 38,
   "id": "07f1d873",
   "metadata": {},
   "outputs": [
    {
     "ename": "TypeError",
     "evalue": "'numpy.float32' object is not iterable",
     "output_type": "error",
     "traceback": [
      "\u001b[0;31m---------------------------------------------------------------------------\u001b[0m",
      "\u001b[0;31mTypeError\u001b[0m                                 Traceback (most recent call last)",
      "Cell \u001b[0;32mIn [38], line 2\u001b[0m\n\u001b[1;32m      1\u001b[0m plt\u001b[38;5;241m.\u001b[39mfigure(figsize\u001b[38;5;241m=\u001b[39m(\u001b[38;5;241m8\u001b[39m, \u001b[38;5;241m8\u001b[39m)) \u001b[38;5;66;03m# Create drawing figure with size 8x8\u001b[39;00m\n\u001b[0;32m----> 2\u001b[0m \u001b[38;5;28;01mfor\u001b[39;00m images, labels \u001b[38;5;129;01min\u001b[39;00m train_set\u001b[38;5;241m.\u001b[39mtake(\u001b[38;5;241m1\u001b[39m): \u001b[38;5;66;03m# Loop over first batch of images and labels in the training set\u001b[39;00m\n\u001b[1;32m      3\u001b[0m     \u001b[38;5;28;01mfor\u001b[39;00m i \u001b[38;5;129;01min\u001b[39;00m \u001b[38;5;28mrange\u001b[39m(\u001b[38;5;241m9\u001b[39m): \u001b[38;5;66;03m# Loop over each image in the batch\u001b[39;00m\n\u001b[1;32m      4\u001b[0m         ax \u001b[38;5;241m=\u001b[39m plt\u001b[38;5;241m.\u001b[39msubplot(\u001b[38;5;241m3\u001b[39m, \u001b[38;5;241m3\u001b[39m, i\u001b[38;5;241m+\u001b[39m\u001b[38;5;241m1\u001b[39m) \u001b[38;5;66;03m# Add subplot to the drawing figure for the image\u001b[39;00m\n",
      "\u001b[0;31mTypeError\u001b[0m: 'numpy.float32' object is not iterable"
     ]
    }
   ],
   "source": [
    "plt.figure(figsize=(8, 8)) # Create drawing figure with size 8x8\n",
    "for images, labels in train_set.take(1): # Loop over first batch of images and labels in the training set\n",
    "    for i in range(9): # Loop over each image in the batch\n",
    "        ax = plt.subplot(3, 3, i+1) # Add subplot to the drawing figure for the image\n",
    "        plt.imshow(images[i].numpy().astype(\"uint8\")) # Display image using Matplotlib's imshow function\n",
    "        plt.axis(\"off\") # Turn off image axes\n",
    "plt.show() # Display the drawing"
   ]
  },
  {
   "cell_type": "code",
   "execution_count": 39,
   "metadata": {},
   "outputs": [],
   "source": [
    "latent_space_dim = 15\n",
    "\n",
    "# Architecture de l'Encodeur\n",
    "encoder_inputs = keras.Input(shape=(384, 384, 3))\n",
    "resacled = tf.keras.layers.experimental.preprocessing.Rescaling(1./255, offset=0.0)(encoder_inputs)\n",
    "flatten = keras.layers.Flatten()(resacled)\n",
    "hidden1 = tf.keras.layers.Dense(200)(flatten)\n",
    "latent_space = tf.keras.layers.Dense(latent_space_dim, activation='relu')(hidden1)\n",
    "\n",
    "encoder = keras.Model(encoder_inputs, latent_space, name=\"encoder\")\n",
    "\n",
    "#encoder = tf.keras.Sequential([\n",
    " #   tf.keras.layers.experimental.preprocessing.Rescaling(1./255, offset=0.0), # Preprocess input data by rescaling all values to the range [0, 1]\n",
    "  #  tf.keras.layers.Flatten(), # Flatten input data to 1D array\n",
    "   # tf.keras.layers.Dense(200), # Add a fully connected layer with 128 units and ReLU activation\n",
    "    #tf.keras.layers.Dense(latent_space_dim, activation='relu') # Add a fully connected layer with a single output and sigmoid activation\n",
    "#])"
   ]
  },
  {
   "cell_type": "code",
   "execution_count": 40,
   "metadata": {},
   "outputs": [
    {
     "data": {
      "image/png": "[encoded data removed]",
      "text/plain": [
       "<IPython.core.display.Image object>"
      ]
     },
     "execution_count": 40,
     "metadata": {},
     "output_type": "execute_result"
    }
   ],
   "source": [
    "from keras.utils import plot_model\n",
    "plot_model(encoder, to_file='encodersimple.png', show_shapes=True)"
   ]
  },
  {
   "cell_type": "code",
   "execution_count": 41,
   "metadata": {},
   "outputs": [],
   "source": [
    "# Architecture du Décodeur\n",
    "decoder_inputs = keras.Input(shape=(latent_space_dim,))\n",
    "hidden2 = tf.keras.layers.Dense(units=200, activation='relu') (decoder_inputs)\n",
    "hidden3 = tf.keras.layers.Dense(units=442368, activation='sigmoid') (hidden2)\n",
    "decoder_outputs = tf.keras.layers.Reshape(target_shape=(384,384,3))(hidden3)\n",
    "\n",
    "decoder = keras.Model(decoder_inputs, decoder_outputs, name=\"decoder\")\n",
    "\n",
    "#decoder = tf.keras.Sequential([\n",
    "#    tf.keras.layers.Dense(200, activation='relu'), # Add a fully connected layer with 128 units and ReLU activation\n",
    "#    tf.keras.layers.Dense(442368, activation='sigmoid') # Add a fully connected layer with a single output and sigmoid activation\n",
    "#])"
   ]
  },
  {
   "cell_type": "code",
   "execution_count": 42,
   "metadata": {},
   "outputs": [
    {
     "data": {
      "image/png": "[encoded data removed]",
      "text/plain": [
       "<IPython.core.display.Image object>"
      ]
     },
     "execution_count": 42,
     "metadata": {},
     "output_type": "execute_result"
    }
   ],
   "source": [
    "from keras.utils import plot_model\n",
    "plot_model(decoder, to_file='decodersimple.png', show_shapes=True)"
   ]
  },
  {
   "cell_type": "code",
   "execution_count": 43,
   "metadata": {},
   "outputs": [],
   "source": [
    "# Combinaison des deux Architecture (Enc,Dec)\n",
    "outputs = decoder(latent_space)\n",
    "autoencoder = keras.Model(encoder_inputs, outputs, name=\"autoencoder\")"
   ]
  },
  {
   "cell_type": "code",
   "execution_count": 44,
   "metadata": {},
   "outputs": [
    {
     "name": "stdout",
     "output_type": "stream",
     "text": [
      "Model: \"autoencoder\"\n",
      "_________________________________________________________________\n",
      " Layer (type)                Output Shape              Param #   \n",
      "=================================================================\n",
      " input_5 (InputLayer)        [(None, 384, 384, 3)]     0         \n",
      "                                                                 \n",
      " rescaling_2 (Rescaling)     (None, 384, 384, 3)       0         \n",
      "                                                                 \n",
      " flatten_2 (Flatten)         (None, 442368)            0         \n",
      "                                                                 \n",
      " dense_8 (Dense)             (None, 200)               88473800  \n",
      "                                                                 \n",
      " dense_9 (Dense)             (None, 15)                3015      \n",
      "                                                                 \n",
      " decoder (Functional)        (None, 384, 384, 3)       88919168  \n",
      "                                                                 \n",
      "=================================================================\n",
      "Total params: 177,395,983\n",
      "Trainable params: 177,395,983\n",
      "Non-trainable params: 0\n",
      "_________________________________________________________________\n"
     ]
    }
   ],
   "source": [
    "autoencoder.summary()"
   ]
  },
  {
   "cell_type": "code",
   "execution_count": 45,
   "metadata": {},
   "outputs": [],
   "source": [
    "from keras import backend as K\n",
    "# Définition de la fonction de perte (Loss Fct)\n",
    "reconstruction_loss = keras.losses.binary_crossentropy(encoder_inputs, outputs) * 442368\n",
    "\n",
    "autoencoder_loss = K.mean(reconstruction_loss)"
   ]
  },
  {
   "cell_type": "code",
   "execution_count": 46,
   "metadata": {},
   "outputs": [],
   "source": [
    "# Compiler le modèle\n",
    "autoencoder.add_loss(autoencoder_loss)\n",
    "autoencoder.compile(optimizer=\"adam\")"
   ]
  },
  {
   "cell_type": "code",
   "execution_count": 47,
   "metadata": {},
   "outputs": [
    {
     "name": "stdout",
     "output_type": "stream",
     "text": [
      "Epoch 1/10\n",
      "1/1 [==============================] - 3s 3s/step - loss: 306715.0000\n",
      "Epoch 2/10\n",
      "1/1 [==============================] - 2s 2s/step - loss: -608700160.0000\n",
      "Epoch 3/10\n",
      "1/1 [==============================] - 2s 2s/step - loss: -763782272.0000\n",
      "Epoch 4/10\n",
      "1/1 [==============================] - 2s 2s/step - loss: -763781696.0000\n",
      "Epoch 5/10\n",
      "1/1 [==============================] - 2s 2s/step - loss: -763781696.0000\n",
      "Epoch 6/10\n",
      "1/1 [==============================] - 2s 2s/step - loss: -763781696.0000\n",
      "Epoch 7/10\n",
      "1/1 [==============================] - 2s 2s/step - loss: -763781696.0000\n",
      "Epoch 8/10\n",
      "1/1 [==============================] - 2s 2s/step - loss: -763781696.0000\n",
      "Epoch 9/10\n",
      "1/1 [==============================] - 2s 2s/step - loss: -763781696.0000\n",
      "Epoch 10/10\n",
      "1/1 [==============================] - 2s 2s/step - loss: -763781696.0000\n"
     ]
    }
   ],
   "source": [
    "# Exécution du modèle\n",
    "epochs = 10\n",
    "history = autoencoder.fit(\n",
    "    train_set, train_set, validation_data=(test_set, test_set), epochs=epochs, shuffle=True,\n",
    ")  "
   ]
  },
  {
   "cell_type": "code",
   "execution_count": null,
   "metadata": {},
   "outputs": [],
   "source": [
    "# Visualisation des pertes d'apprentissage (Train) et de validation (Test)\n",
    "plt.plot(history.history['loss'], label='train')\n",
    "plt.plot(history.history['val_loss'], label='test')\n",
    "plt.legend()"
   ]
  },
  {
   "cell_type": "markdown",
   "id": "6311b794",
   "metadata": {},
   "source": [
    "## III. Modélisation des données avec un modèle de classification binaire\n",
    "### 3.1 Modèles basiques\n",
    "#### 3.1.1 Modélisation avec un simple réseau de neuronnes\n",
    "##### 3.1.1.1 Définition du modèle"
   ]
  },
  {
   "cell_type": "markdown",
   "id": "500069f6",
   "metadata": {},
   "source": [
    "##### 3.1.1.2 Compilation du modèle"
   ]
  },
  {
   "cell_type": "markdown",
   "id": "30fb5603",
   "metadata": {},
   "source": [
    "##### 3.1.1.3 Entrainement du modèle"
   ]
  },
  {
   "cell_type": "markdown",
   "id": "1c9dd6fc",
   "metadata": {},
   "source": [
    "##### 3.1.1.4 Résultat du modèle"
   ]
  },
  {
   "cell_type": "markdown",
   "id": "cb0a3622",
   "metadata": {},
   "source": [
    "#### 3.1.2 Modélisation avec un réseau de neuronnes convolutifs\n",
    "##### 3.1.2.1 Définition du modèle"
   ]
  },
  {
   "cell_type": "markdown",
   "id": "94181daf",
   "metadata": {},
   "source": [
    "##### 3.1.2.2 Compilation du modèle"
   ]
  },
  {
   "cell_type": "markdown",
   "id": "6b10a7f5",
   "metadata": {},
   "source": [
    "##### 3.1.2.3 Entrainement du modèle"
   ]
  },
  {
   "cell_type": "markdown",
   "id": "cb064bbc",
   "metadata": {},
   "source": [
    "##### 3.1.2.4 Résultat du modèle"
   ]
  },
  {
   "cell_type": "markdown",
   "id": "c2a91539",
   "metadata": {},
   "source": [
    "### 3.2 Modèles basiques avec régularisation\n",
    "\n",
    "\n",
    "#### 3.2.1 Régularisation avec des couches de \"Dropout\"\n",
    "\n",
    "##### 3.2.1.1 Définition du modèle"
   ]
  },
  {
   "cell_type": "markdown",
   "id": "3ba968f3",
   "metadata": {},
   "source": [
    "##### 3.2.1.2 Compilation du modèle"
   ]
  },
  {
   "cell_type": "markdown",
   "id": "cbd6e431",
   "metadata": {},
   "source": [
    "##### 3.2.1.3 Entrainement du modèle"
   ]
  },
  {
   "cell_type": "markdown",
   "id": "b75bb6ca",
   "metadata": {},
   "source": [
    "##### 3.2.1.4 Résultat du modèle"
   ]
  },
  {
   "cell_type": "markdown",
   "id": "cca12c85",
   "metadata": {},
   "source": [
    "#### 3.2.2 Autres méthodes de régularisation"
   ]
  },
  {
   "cell_type": "markdown",
   "id": "8c949b5b",
   "metadata": {},
   "source": [
    "### 3.3 Modèles avec des architectures existantes"
   ]
  },
  {
   "cell_type": "markdown",
   "id": "dbe5f5cf",
   "metadata": {},
   "source": [
    "##### 3.3.2.1 Définition du modèle"
   ]
  },
  {
   "cell_type": "markdown",
   "id": "21f3ed72",
   "metadata": {},
   "source": [
    "##### 3.3.2.2 Compilation du modèle"
   ]
  },
  {
   "cell_type": "markdown",
   "id": "2efd3993",
   "metadata": {},
   "source": [
    "##### 3.3.2.3 Entrainement du modèle"
   ]
  },
  {
   "cell_type": "markdown",
   "id": "825b9145",
   "metadata": {},
   "source": [
    "##### 3.3.2.4 Résultats du modèle"
   ]
  },
  {
   "cell_type": "markdown",
   "id": "615bdb7d",
   "metadata": {},
   "source": [
    "## IV. Résultats et conclusion"
   ]
  },
  {
   "cell_type": "code",
   "execution_count": null,
   "id": "151148b4",
   "metadata": {},
   "outputs": [],
   "source": []
  }
 ],
 "metadata": {
  "kernelspec": {
   "display_name": "Python 3",
   "language": "python",
   "name": "python3"
  },
  "language_info": {
   "codemirror_mode": {
    "name": "ipython",
    "version": 3
   },
   "file_extension": ".py",
   "mimetype": "text/x-python",
   "name": "python",
   "nbconvert_exporter": "python",
   "pygments_lexer": "ipython3",
   "version": "3.8.10"
  }
 },
 "nbformat": 4,
 "nbformat_minor": 5
}
