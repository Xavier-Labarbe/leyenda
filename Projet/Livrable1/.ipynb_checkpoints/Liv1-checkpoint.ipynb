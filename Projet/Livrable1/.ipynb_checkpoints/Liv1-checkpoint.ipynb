{
 "cells": [
  {
   "cell_type": "code",
   "execution_count": 13,
   "id": "54f72ec4",
   "metadata": {
    "ExecuteTime": {
     "end_time": "2022-12-14T14:46:28.720895Z",
     "start_time": "2022-12-14T14:46:28.710378Z"
    }
   },
   "outputs": [],
   "source": [
    "import tensorflow as tf\n",
    "# ^^^ pyforest auto-imports - don't write above this line\n",
    "# association of paths\n",
    "dataset_path = \"..\\Datasets\\OneDrive_2022-09-22\\Dataset projet\"\n",
    "painting_add_path= \"\\Dataset Livrable 1 - Painting\\Painting\"\n",
    "photo_add_path = \"\\Dataset Livrable 1 - Photo\\Photo\"\n",
    "schematics_add_path = \"\\Dataset Livrable 1 - Schematics\\Schematics\"\n",
    "sketch_add_path = \"\\Dataset Livrable 1 - Sketch\\Sketch\"\n",
    "text_add_path = \"\\Dataset Livrable 1 - Text\\Text\""
   ]
  },
  {
   "cell_type": "code",
   "execution_count": 14,
   "id": "e90efd42",
   "metadata": {
    "ExecuteTime": {
     "end_time": "2022-12-14T14:46:28.970118Z",
     "start_time": "2022-12-14T14:46:28.952964Z"
    }
   },
   "outputs": [
    {
     "data": {
      "text/plain": [
       "'..\\\\Datasets\\\\OneDrive_2022-09-22\\\\Dataset projet\\\\Dataset Livrable 1 - Painting\\\\Painting'"
      ]
     },
     "execution_count": 14,
     "metadata": {},
     "output_type": "execute_result"
    }
   ],
   "source": [
    "dataset_path + painting_add_path"
   ]
  },
  {
   "cell_type": "code",
   "execution_count": 20,
   "id": "72a94286",
   "metadata": {
    "ExecuteTime": {
     "end_time": "2022-12-14T14:54:57.268506Z",
     "start_time": "2022-12-14T14:54:57.250505Z"
    }
   },
   "outputs": [],
   "source": [
    "import pathlib\n",
    "\n",
    "data_dir = pathlib.Path(r\"C:\\Users\\ggire\\_Data_Science_\\Projet\\Datasets\\OneDrive_2022-09-22\\Dataset projet\\Dataset Livrable 1 - Text\\Text\")"
   ]
  },
  {
   "cell_type": "code",
   "execution_count": 22,
   "id": "e89de3aa",
   "metadata": {
    "ExecuteTime": {
     "end_time": "2022-12-14T15:07:46.343175Z",
     "start_time": "2022-12-14T15:07:46.327677Z"
    }
   },
   "outputs": [],
   "source": [
    "dataset_url = \"https://storage.googleapis.com/download.tensorflow.org/example_images/flower_photos.tgz\"\n",
    "data_dir = tf.keras.utils.get_file('flower_photos', origin=dataset_url, untar=True)"
   ]
  },
  {
   "cell_type": "code",
   "execution_count": 23,
   "id": "c41504ec",
   "metadata": {
    "ExecuteTime": {
     "end_time": "2022-12-14T15:07:54.929439Z",
     "start_time": "2022-12-14T15:07:54.922065Z"
    }
   },
   "outputs": [
    {
     "data": {
      "text/plain": [
       "'C:\\\\Users\\\\ggire\\\\.keras\\\\datasets\\\\flower_photos'"
      ]
     },
     "execution_count": 23,
     "metadata": {},
     "output_type": "execute_result"
    }
   ],
   "source": [
    "data_dir"
   ]
  },
  {
   "cell_type": "code",
   "execution_count": 24,
   "id": "75b8f053",
   "metadata": {
    "ExecuteTime": {
     "end_time": "2022-12-14T15:11:35.825740Z",
     "start_time": "2022-12-14T15:11:35.817230Z"
    }
   },
   "outputs": [
    {
     "data": {
      "text/plain": [
       "'C:\\\\Users\\\\ggire\\\\_Data_Science_\\\\Projet\\\\Datasets\\\\OneDrive_2022-09-22\\\\Dataset projet\\\\Dataset Livrable 1 - Text\\\\Text'"
      ]
     },
     "execution_count": 24,
     "metadata": {},
     "output_type": "execute_result"
    }
   ],
   "source": [
    " r\"C:\\Users\\ggire\\_Data_Science_\\Projet\\Datasets\\OneDrive_2022-09-22\\Dataset_projet\\Dataset_Livrable_1_-_Text\\Text\""
   ]
  },
  {
   "cell_type": "code",
   "execution_count": null,
   "id": "2da00c63",
   "metadata": {
    "ExecuteTime": {
     "start_time": "2022-12-14T15:22:27.716Z"
    }
   },
   "outputs": [
    {
     "name": "stdout",
     "output_type": "stream",
     "text": [
      "Found 41556 files belonging to 6 classes.\n",
      "Using 33245 files for training.\n"
     ]
    }
   ],
   "source": [
    "train_set = tf.keras.preprocessing.image_dataset_from_directory(\n",
    "    dataset_path,\n",
    "    validation_split= .2,\n",
    "    subset = \"training\",\n",
    "    seed=42,\n",
    "    shuffle=True,\n",
    "    batch_size=32,\n",
    ")"
   ]
  },
  {
   "cell_type": "code",
   "execution_count": 26,
   "id": "31801318",
   "metadata": {
    "ExecuteTime": {
     "end_time": "2022-12-14T15:21:36.022185Z",
     "start_time": "2022-12-14T15:21:36.001194Z"
    }
   },
   "outputs": [
    {
     "name": "stdout",
     "output_type": "stream",
     "text": [
      "['LICENSE.txt']\n"
     ]
    }
   ],
   "source": [
    "from os import listdir\n",
    "from os.path import isfile, join\n",
    "monRepertoire = data_dir\n",
    "fichiers = [f for f in listdir(monRepertoire) if isfile(join(monRepertoire, f))]\n",
    "print(fichiers)"
   ]
  },
  {
   "cell_type": "code",
   "execution_count": null,
   "id": "87e19cbb",
   "metadata": {},
   "outputs": [],
   "source": []
  },
  {
   "cell_type": "code",
   "execution_count": null,
   "id": "2586b95e",
   "metadata": {},
   "outputs": [],
   "source": []
  },
  {
   "cell_type": "code",
   "execution_count": null,
   "id": "d4f4f278",
   "metadata": {},
   "outputs": [],
   "source": []
  },
  {
   "cell_type": "code",
   "execution_count": null,
   "id": "41097e14",
   "metadata": {},
   "outputs": [],
   "source": []
  },
  {
   "cell_type": "code",
   "execution_count": null,
   "id": "769bcb0b",
   "metadata": {},
   "outputs": [],
   "source": []
  },
  {
   "cell_type": "code",
   "execution_count": null,
   "id": "b52b982c",
   "metadata": {},
   "outputs": [],
   "source": []
  }
 ],
 "metadata": {
  "kernelspec": {
   "display_name": "Python 3 (ipykernel)",
   "language": "python",
   "name": "python3"
  },
  "language_info": {
   "codemirror_mode": {
    "name": "ipython",
    "version": 3
   },
   "file_extension": ".py",
   "mimetype": "text/x-python",
   "name": "python",
   "nbconvert_exporter": "python",
   "pygments_lexer": "ipython3",
   "version": "3.9.15"
  }
 },
 "nbformat": 4,
 "nbformat_minor": 5
}
