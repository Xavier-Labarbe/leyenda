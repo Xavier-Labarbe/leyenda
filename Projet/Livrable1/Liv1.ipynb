{
 "cells": [
  {
   "cell_type": "code",
   "execution_count": 13,
   "id": "54f72ec4",
   "metadata": {
    "ExecuteTime": {
     "end_time": "2022-12-14T14:46:28.720895Z",
     "start_time": "2022-12-14T14:46:28.710378Z"
    }
   },
   "outputs": [],
   "source": [
    "import tensorflow as tf\n",
    "# ^^^ pyforest auto-imports - don't write above this line\n",
    "# association of paths\n",
    "dataset_path = \"..\\Datasets\\OneDrive_2022-09-22\\Dataset projet\"\n"
   ]
  },
  {
   "cell_type": "code",
   "execution_count": 27,
   "id": "2da00c63",
   "metadata": {
    "ExecuteTime": {
     "end_time": "2022-12-14T15:22:38.608067Z",
     "start_time": "2022-12-14T15:22:27.718427Z"
    }
   },
   "outputs": [
    {
     "name": "stdout",
     "output_type": "stream",
     "text": [
      "Found 41556 files belonging to 6 classes.\n",
      "Using 33245 files for training.\n"
     ]
    }
   ],
   "source": [
    "train_set = tf.keras.preprocessing.image_dataset_from_directory(\n",
    "    dataset_path,\n",
    "    validation_split= .2,\n",
    "    subset = \"training\",\n",
    "    seed=42,\n",
    "    shuffle=True,\n",
    "    batch_size=32,\n",
    ")"
   ]
  },
  {
   "cell_type": "code",
   "execution_count": null,
   "id": "87e19cbb",
   "metadata": {},
   "outputs": [],
   "source": []
  },
  {
   "cell_type": "code",
   "execution_count": null,
   "id": "2586b95e",
   "metadata": {},
   "outputs": [],
   "source": []
  },
  {
   "cell_type": "code",
   "execution_count": null,
   "id": "d4f4f278",
   "metadata": {},
   "outputs": [],
   "source": []
  },
  {
   "cell_type": "code",
   "execution_count": null,
   "id": "41097e14",
   "metadata": {},
   "outputs": [],
   "source": []
  },
  {
   "cell_type": "code",
   "execution_count": null,
   "id": "769bcb0b",
   "metadata": {},
   "outputs": [],
   "source": []
  },
  {
   "cell_type": "code",
   "execution_count": null,
   "id": "b52b982c",
   "metadata": {},
   "outputs": [],
   "source": []
  }
 ],
 "metadata": {
  "kernelspec": {
   "display_name": "Python 3 (ipykernel)",
   "language": "python",
   "name": "python3"
  },
  "language_info": {
   "codemirror_mode": {
    "name": "ipython",
    "version": 3
   },
   "file_extension": ".py",
   "mimetype": "text/x-python",
   "name": "python",
   "nbconvert_exporter": "python",
   "pygments_lexer": "ipython3",
   "version": "3.9.15"
  }
 },
 "nbformat": 4,
 "nbformat_minor": 5
}
