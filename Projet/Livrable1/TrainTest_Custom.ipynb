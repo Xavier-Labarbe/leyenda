{
 "cells": [
  {
   "cell_type": "code",
   "execution_count": 1,
   "id": "d39f1bd2",
   "metadata": {
    "ExecuteTime": {
     "end_time": "2023-01-02T12:05:17.723795Z",
     "start_time": "2023-01-02T12:05:11.949144Z"
    }
   },
   "outputs": [
    {
     "name": "stdout",
     "output_type": "stream",
     "text": [
      "[PhysicalDevice(name='/physical_device:CPU:0', device_type='CPU'), PhysicalDevice(name='/physical_device:GPU:0', device_type='GPU')]\n"
     ]
    }
   ],
   "source": [
    "import matplotlib.pyplot as plt\n",
    "import numpy as np\n",
    "import os\n",
    "import PIL\n",
    "import tensorflow as tf\n",
    "\n",
    "from tensorflow import keras\n",
    "from tensorflow.keras import layers\n",
    "from tensorflow.keras.models import Sequential\n",
    "\n",
    "from os import listdir\n",
    "from os.path import isfile, join\n",
    "import random\n",
    "\n",
    "print(tf.config.get_visible_devices())"
   ]
  },
  {
   "cell_type": "code",
   "execution_count": 2,
   "id": "3c00d6c7",
   "metadata": {
    "ExecuteTime": {
     "end_time": "2023-01-02T12:05:17.738795Z",
     "start_time": "2023-01-02T12:05:17.725795Z"
    }
   },
   "outputs": [],
   "source": [
    "import tensorflow as tf\n",
    "\n",
    "# ^^^ pyforest auto-imports - don't write above this line\n",
    "# association of paths\n",
    "dataset_path = r\"..\\Datasets_test_binary\\OneDrive_2022-09-22\\Dataset projet\"\n",
    "targeted_dataset_path = r\"..\\Datasets_train_test\""
   ]
  },
  {
   "cell_type": "code",
   "execution_count": 3,
   "id": "0edd196b",
   "metadata": {
    "ExecuteTime": {
     "end_time": "2023-01-02T12:05:17.753796Z",
     "start_time": "2023-01-02T12:05:17.741799Z"
    }
   },
   "outputs": [],
   "source": [
    "VAL_SPLIT = 20"
   ]
  },
  {
   "cell_type": "code",
   "execution_count": 4,
   "id": "41a2fee0",
   "metadata": {
    "ExecuteTime": {
     "end_time": "2023-01-02T12:05:17.784798Z",
     "start_time": "2023-01-02T12:05:17.756798Z"
    }
   },
   "outputs": [],
   "source": [
    "# Aller dans le photo et faire une scission sur VAL_SPLIT\n",
    "photo_path = dataset_path + r'\\Photo'\n",
    "other_path = dataset_path + r'\\Other'"
   ]
  },
  {
   "cell_type": "code",
   "execution_count": 5,
   "id": "faac9d7d",
   "metadata": {
    "ExecuteTime": {
     "end_time": "2023-01-02T12:05:21.925143Z",
     "start_time": "2023-01-02T12:05:17.787795Z"
    }
   },
   "outputs": [],
   "source": [
    "photo_files = [f for f in listdir(photo_path) if isfile(join(photo_path, f))]\n",
    "other_files = [f for f in listdir(other_path) if isfile(join(other_path, f))]"
   ]
  },
  {
   "cell_type": "code",
   "execution_count": 6,
   "id": "fe55f977",
   "metadata": {
    "ExecuteTime": {
     "end_time": "2023-01-02T12:05:21.941141Z",
     "start_time": "2023-01-02T12:05:21.927155Z"
    }
   },
   "outputs": [],
   "source": [
    "def select_random_items(items, percentage):\n",
    "  # Calculer le nombre d'éléments à sélectionner\n",
    "  num_items = int(len(items) * percentage / 100)\n",
    "\n",
    "  # Créer une copie de la liste d'items\n",
    "  copy = items.copy()\n",
    "\n",
    "  # Mélanger la liste de manière aléatoire\n",
    "  random.shuffle(copy)\n",
    "\n",
    "  # Sélectionner les num_items premiers éléments de la liste mélangée\n",
    "  test = copy[:num_items]\n",
    "\n",
    "  # Créer la liste des éléments non sélectionnés\n",
    "  train = copy[num_items:]\n",
    "\n",
    "  return train, test"
   ]
  },
  {
   "cell_type": "code",
   "execution_count": 7,
   "id": "55c7ec0a",
   "metadata": {
    "ExecuteTime": {
     "end_time": "2023-01-02T12:05:21.972143Z",
     "start_time": "2023-01-02T12:05:21.944159Z"
    }
   },
   "outputs": [],
   "source": [
    "photo_files_train, photo_files_test = select_random_items(photo_files, VAL_SPLIT)\n",
    "other_files_train, other_files_test = select_random_items(other_files, VAL_SPLIT)"
   ]
  },
  {
   "cell_type": "code",
   "execution_count": null,
   "id": "924d3327",
   "metadata": {},
   "outputs": [],
   "source": []
  },
  {
   "cell_type": "code",
   "execution_count": 8,
   "id": "0846462a",
   "metadata": {
    "ExecuteTime": {
     "end_time": "2023-01-02T12:06:41.478209Z",
     "start_time": "2023-01-02T12:05:22.301762Z"
    }
   },
   "outputs": [],
   "source": [
    "import shutil\n",
    "import os\n",
    "\n",
    "\n",
    "photo_train_path = targeted_dataset_path + r'\\train\\photo'\n",
    "other_train_path = targeted_dataset_path + r'\\train\\other'\n",
    "photo_test_path = targeted_dataset_path + r'\\test\\photo'\n",
    "other_test_path = targeted_dataset_path + r'\\test\\other'\n",
    "os.makedirs(photo_train_path, exist_ok=True)\n",
    "os.makedirs(other_train_path, exist_ok=True)\n",
    "os.makedirs(photo_test_path, exist_ok=True)\n",
    "os.makedirs(other_test_path, exist_ok=True)\n",
    "\n",
    "# Pour chaque fichier dans la liste\n",
    "for file in photo_files_train:\n",
    "  # Construire le chemin complet du fichier dans les deux dossiers\n",
    "    chemin_fichier_source = os.path.join(photo_path, file)\n",
    "    chemin_fichier_destination = os.path.join(photo_train_path, file)\n",
    "\n",
    "  # Copier le fichier du dossier source vers le dossier de destination\n",
    "    shutil.copy(chemin_fichier_source, chemin_fichier_destination)\n",
    "\n",
    "for file in other_files_train:\n",
    "    chemin_fichier_source = os.path.join(other_path, file)\n",
    "    chemin_fichier_destination = os.path.join(other_train_path, file)\n",
    "    \n",
    "  # Copier le fichier du dossier source vers le dossier de destination\n",
    "    shutil.copy(chemin_fichier_source, chemin_fichier_destination)\n",
    "    \n",
    "\n",
    "# Pour chaque fichier dans la liste\n",
    "for file in photo_files_test:\n",
    "  # Construire le chemin complet du fichier dans les deux dossiers\n",
    "    chemin_fichier_source = os.path.join(photo_path, file)\n",
    "    chemin_fichier_destination = os.path.join(photo_test_path, file)\n",
    "\n",
    "  # Copier le fichier du dossier source vers le dossier de destination\n",
    "    shutil.copy(chemin_fichier_source, chemin_fichier_destination)\n",
    "\n",
    "for file in other_files_test:\n",
    "    chemin_fichier_source = os.path.join(other_path, file)\n",
    "    chemin_fichier_destination = os.path.join(other_test_path, file)\n",
    "    \n",
    "  # Copier le fichier du dossier source vers le dossier de destination\n",
    "    shutil.copy(chemin_fichier_source, chemin_fichier_destination)"
   ]
  },
  {
   "cell_type": "code",
   "execution_count": null,
   "id": "b5a577ba",
   "metadata": {},
   "outputs": [],
   "source": []
  }
 ],
 "metadata": {
  "kernelspec": {
   "display_name": "tf_gpu",
   "language": "python",
   "name": "tf_gpu"
  },
  "language_info": {
   "codemirror_mode": {
    "name": "ipython",
    "version": 3
   },
   "file_extension": ".py",
   "mimetype": "text/x-python",
   "name": "python",
   "nbconvert_exporter": "python",
   "pygments_lexer": "ipython3",
   "version": "3.9.13"
  }
 },
 "nbformat": 4,
 "nbformat_minor": 5
}
