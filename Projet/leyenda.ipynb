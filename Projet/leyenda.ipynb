{
 "cells": [
  {
   "cell_type": "markdown",
   "id": "f94ede16",
   "metadata": {},
   "source": [
    "# I. Importations des modules et des données\n",
    "## 1.1 Importation des modules"
   ]
  },
  {
   "cell_type": "code",
   "execution_count": 52,
   "id": "b3e0168d",
   "metadata": {},
   "outputs": [],
   "source": [
    "import tensorflow as tf\n",
    "import numpy as np\n",
    "import matplotlib.pyplot as plt\n",
    "import pandas as pd\n",
    "import os\n",
    "from zipfile import ZipFile\n",
    "import shutil"
   ]
  },
  {
   "cell_type": "markdown",
   "id": "e30a6b09",
   "metadata": {},
   "source": [
    "## 1.2 Extraction des données"
   ]
  },
  {
   "cell_type": "code",
   "execution_count": 59,
   "id": "ff389d1c",
   "metadata": {
    "scrolled": false
   },
   "outputs": [
    {
     "name": "stdout",
     "output_type": "stream",
     "text": [
      "Extraction folder successfully created at 'C:\\Users\\axelb\\Desktop\\Projet DS\\Datasets\\Extracted'\n",
      "Starting the extraction of 'Dataset Livrable 1 - Painting.zip' at 'C:\\Users\\axelb\\Desktop\\Projet DS\\Datasets\\Extracted'\n",
      "'Dataset Livrable 1 - Painting.zip' was successfully extracted at 'C:\\Users\\axelb\\Desktop\\Projet DS\\Datasets\\Extracted'\n",
      "Starting the extraction of 'Dataset Livrable 1 - Photo.zip' at 'C:\\Users\\axelb\\Desktop\\Projet DS\\Datasets\\Extracted'\n",
      "'Dataset Livrable 1 - Photo.zip' was successfully extracted at 'C:\\Users\\axelb\\Desktop\\Projet DS\\Datasets\\Extracted'\n",
      "Starting the extraction of 'Dataset Livrable 1 - Schematics.zip' at 'C:\\Users\\axelb\\Desktop\\Projet DS\\Datasets\\Extracted'\n",
      "'Dataset Livrable 1 - Schematics.zip' was successfully extracted at 'C:\\Users\\axelb\\Desktop\\Projet DS\\Datasets\\Extracted'\n",
      "Starting the extraction of 'Dataset Livrable 1 - Sketch.zip' at 'C:\\Users\\axelb\\Desktop\\Projet DS\\Datasets\\Extracted'\n",
      "'Dataset Livrable 1 - Sketch.zip' was successfully extracted at 'C:\\Users\\axelb\\Desktop\\Projet DS\\Datasets\\Extracted'\n",
      "Starting the extraction of 'Dataset Livrable 1 - Text.zip' at 'C:\\Users\\axelb\\Desktop\\Projet DS\\Datasets\\Extracted'\n",
      "'Dataset Livrable 1 - Text.zip' was successfully extracted at 'C:\\Users\\axelb\\Desktop\\Projet DS\\Datasets\\Extracted'\n",
      "New folder successfully created at 'C:\\Users\\axelb\\Desktop\\Projet DS\\Datasets\\Extracted\\Other'\n",
      "Starting the copy of 'C:\\Users\\axelb\\Desktop\\Projet DS\\Datasets\\Extracted\\Painting' at 'C:\\Users\\axelb\\Desktop\\Projet DS\\Datasets\\Extracted\\Other'\n",
      "'The content of C:\\Users\\axelb\\Desktop\\Projet DS\\Datasets\\Extracted\\Painting' was successfully extracted at 'C:\\Users\\axelb\\Desktop\\Projet DS\\Datasets\\Extracted\\Other'\n",
      "Starting the copy of 'C:\\Users\\axelb\\Desktop\\Projet DS\\Datasets\\Extracted\\Schematics' at 'C:\\Users\\axelb\\Desktop\\Projet DS\\Datasets\\Extracted\\Other'\n",
      "'The content of C:\\Users\\axelb\\Desktop\\Projet DS\\Datasets\\Extracted\\Schematics' was successfully extracted at 'C:\\Users\\axelb\\Desktop\\Projet DS\\Datasets\\Extracted\\Other'\n",
      "Starting the copy of 'C:\\Users\\axelb\\Desktop\\Projet DS\\Datasets\\Extracted\\Sketch' at 'C:\\Users\\axelb\\Desktop\\Projet DS\\Datasets\\Extracted\\Other'\n",
      "'The content of C:\\Users\\axelb\\Desktop\\Projet DS\\Datasets\\Extracted\\Sketch' was successfully extracted at 'C:\\Users\\axelb\\Desktop\\Projet DS\\Datasets\\Extracted\\Other'\n",
      "Starting the copy of 'C:\\Users\\axelb\\Desktop\\Projet DS\\Datasets\\Extracted\\Text' at 'C:\\Users\\axelb\\Desktop\\Projet DS\\Datasets\\Extracted\\Other'\n",
      "'The content of C:\\Users\\axelb\\Desktop\\Projet DS\\Datasets\\Extracted\\Text' was successfully extracted at 'C:\\Users\\axelb\\Desktop\\Projet DS\\Datasets\\Extracted\\Other'\n"
     ]
    }
   ],
   "source": [
    "allow_extraction = False\n",
    "datasets_path = r\"C:\\Users\\axelb\\Desktop\\Projet DS\\Datasets\"\n",
    "extracted_datasets_path = os.path.join(datasets_path,'Extracted')\n",
    "new_dataset_filename = \"Other\"\n",
    "new_dataset_path = os.path.join(extracted_datasets_path, new_dataset_filename)\n",
    "datasets_to_regroup = ['Dataset','Painting','Schematics','Sketch','Text']\n",
    "\n",
    "if allow_extraction:\n",
    "    try:\n",
    "        for dataset_filename in os.listdir(datasets_path):\n",
    "\n",
    "            dataset_path = os.path.join(datasets_path, dataset_filename)\n",
    "            dataset_zip = ZipFile(dataset_path, 'r')\n",
    "\n",
    "            if not os.path.exists(extracted_datasets_path):\n",
    "                os.makedirs(extracted_datasets_path)\n",
    "                print(f\"Extraction folder successfully created at '{extracted_datasets_path}'\")\n",
    "\n",
    "            print(f\"Starting the extraction of '{dataset_filename}' at '{extracted_datasets_path}'\")\n",
    "            dataset_zip.extractall(extracted_datasets_path)\n",
    "            print(f\"'{dataset_filename}' was successfully extracted at '{extracted_datasets_path}'\")\n",
    "\n",
    "        dataset_zip.close()\n",
    "    except:\n",
    "        pass\n",
    "    \n",
    "    if not os.path.exists(new_dataset_path):\n",
    "        os.makedirs(new_dataset_path)\n",
    "        print(f\"New folder successfully created at '{new_dataset_path}'\")\n",
    "    for dataset in os.listdir(extracted_datasets_path):\n",
    "        if dataset in datasets_to_regroup:\n",
    "            dataset_directory = os.path.join(extracted_datasets_path, dataset)\n",
    "            print(f\"Starting the copy of '{dataset_directory}' at '{new_dataset_path}'\")\n",
    "            shutil.copytree(dataset_directory, new_dataset_path, copy_function=shutil.move, dirs_exist_ok=True)\n",
    "            print(f\"'The content of {dataset_directory}' was successfully extracted at '{new_dataset_path}'\")\n",
    "            shutil.rmtree(dataset_directory)"
   ]
  },
  {
   "cell_type": "markdown",
   "id": "a9abc408",
   "metadata": {},
   "source": [
    "## 1.3 Importation des données"
   ]
  },
  {
   "cell_type": "code",
   "execution_count": 62,
   "id": "7d09a3d0",
   "metadata": {},
   "outputs": [
    {
     "name": "stdout",
     "output_type": "stream",
     "text": [
      "Found 41406 files belonging to 2 classes.\n",
      "Using 33125 files for training.\n",
      "Using 8281 files for validation.\n",
      "['Other', 'Photo']\n"
     ]
    }
   ],
   "source": [
    "# Le train_set\n",
    "train_set, test_set = tf.keras.preprocessing.image_dataset_from_directory(\n",
    "    extracted_datasets_path,\n",
    "    validation_split=0.2,\n",
    "    seed=10,\n",
    "    batch_size=128,\n",
    "    subset = \"both\"\n",
    ")\n",
    "print(train_set.class_names)"
   ]
  },
  {
   "cell_type": "code",
   "execution_count": null,
   "id": "07f1d873",
   "metadata": {},
   "outputs": [],
   "source": []
  }
 ],
 "metadata": {
  "kernelspec": {
   "display_name": "Python 3 (ipykernel)",
   "language": "python",
   "name": "python3"
  },
  "language_info": {
   "codemirror_mode": {
    "name": "ipython",
    "version": 3
   },
   "file_extension": ".py",
   "mimetype": "text/x-python",
   "name": "python",
   "nbconvert_exporter": "python",
   "pygments_lexer": "ipython3",
   "version": "3.10.8"
  }
 },
 "nbformat": 4,
 "nbformat_minor": 5
}
